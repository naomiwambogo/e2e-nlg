{
 "cells": [
  {
   "cell_type": "markdown",
   "metadata": {
    "toc": true
   },
   "source": [
    "<h1>Table of Contents<span class=\"tocSkip\"></span></h1>\n",
    "<div class=\"toc\"><ul class=\"toc-item\"><li><span><a href=\"#Preprocessing\" data-toc-modified-id=\"Preprocessing-1\"><span class=\"toc-item-num\">1&nbsp;&nbsp;</span>Preprocessing</a></span></li></ul></div>"
   ]
  },
  {
   "cell_type": "code",
   "execution_count": 19,
   "metadata": {
    "collapsed": true
   },
   "outputs": [],
   "source": [
    "import pandas as pd\n",
    "import re\n",
    "import os"
   ]
  },
  {
   "cell_type": "code",
   "execution_count": 9,
   "metadata": {},
   "outputs": [
    {
     "name": "stdout",
     "output_type": "stream",
     "text": [
      "The autoreload extension is already loaded. To reload it, use:\n",
      "  %reload_ext autoreload\n"
     ]
    }
   ],
   "source": [
    "%load_ext autoreload\n",
    "%autoreload 2"
   ]
  },
  {
   "cell_type": "code",
   "execution_count": 10,
   "metadata": {
    "collapsed": true
   },
   "outputs": [],
   "source": [
    "path_data = \"../e2e-dataset\""
   ]
  },
  {
   "cell_type": "code",
   "execution_count": 14,
   "metadata": {
    "collapsed": true
   },
   "outputs": [],
   "source": [
    "train = pd.read_csv(os.path.join(path_data, \"trainset.csv\"))\n",
    "val = pd.read_csv(os.path.join(path_data, \"devset.csv\"))"
   ]
  },
  {
   "cell_type": "code",
   "execution_count": 12,
   "metadata": {},
   "outputs": [
    {
     "data": {
      "text/html": [
       "<div>\n",
       "<style scoped>\n",
       "    .dataframe tbody tr th:only-of-type {\n",
       "        vertical-align: middle;\n",
       "    }\n",
       "\n",
       "    .dataframe tbody tr th {\n",
       "        vertical-align: top;\n",
       "    }\n",
       "\n",
       "    .dataframe thead th {\n",
       "        text-align: right;\n",
       "    }\n",
       "</style>\n",
       "<table border=\"1\" class=\"dataframe\">\n",
       "  <thead>\n",
       "    <tr style=\"text-align: right;\">\n",
       "      <th></th>\n",
       "      <th>mr</th>\n",
       "      <th>ref</th>\n",
       "    </tr>\n",
       "  </thead>\n",
       "  <tbody>\n",
       "    <tr>\n",
       "      <th>0</th>\n",
       "      <td>name[The Vaults], eatType[pub], priceRange[mor...</td>\n",
       "      <td>The Vaults pub near Café Adriatic has a 5 star...</td>\n",
       "    </tr>\n",
       "    <tr>\n",
       "      <th>1</th>\n",
       "      <td>name[The Cambridge Blue], eatType[pub], food[E...</td>\n",
       "      <td>Close to Café Brazil, The Cambridge Blue pub s...</td>\n",
       "    </tr>\n",
       "    <tr>\n",
       "      <th>2</th>\n",
       "      <td>name[The Eagle], eatType[coffee shop], food[Ja...</td>\n",
       "      <td>The Eagle is a low rated coffee shop near Burg...</td>\n",
       "    </tr>\n",
       "    <tr>\n",
       "      <th>3</th>\n",
       "      <td>name[The Mill], eatType[coffee shop], food[Fre...</td>\n",
       "      <td>Located near The Sorrento is a French Theme ea...</td>\n",
       "    </tr>\n",
       "    <tr>\n",
       "      <th>4</th>\n",
       "      <td>name[Loch Fyne], food[French], customer rating...</td>\n",
       "      <td>For luxurious French food, the Loch Fyne is lo...</td>\n",
       "    </tr>\n",
       "  </tbody>\n",
       "</table>\n",
       "</div>"
      ],
      "text/plain": [
       "                                                  mr  \\\n",
       "0  name[The Vaults], eatType[pub], priceRange[mor...   \n",
       "1  name[The Cambridge Blue], eatType[pub], food[E...   \n",
       "2  name[The Eagle], eatType[coffee shop], food[Ja...   \n",
       "3  name[The Mill], eatType[coffee shop], food[Fre...   \n",
       "4  name[Loch Fyne], food[French], customer rating...   \n",
       "\n",
       "                                                 ref  \n",
       "0  The Vaults pub near Café Adriatic has a 5 star...  \n",
       "1  Close to Café Brazil, The Cambridge Blue pub s...  \n",
       "2  The Eagle is a low rated coffee shop near Burg...  \n",
       "3  Located near The Sorrento is a French Theme ea...  \n",
       "4  For luxurious French food, the Loch Fyne is lo...  "
      ]
     },
     "execution_count": 12,
     "metadata": {},
     "output_type": "execute_result"
    }
   ],
   "source": [
    "data.head()"
   ]
  },
  {
   "cell_type": "code",
   "execution_count": 16,
   "metadata": {},
   "outputs": [
    {
     "name": "stdout",
     "output_type": "stream",
     "text": [
      "(42061, 2)\n",
      "(4672, 2)\n"
     ]
    }
   ],
   "source": [
    "print(data.shape)\n",
    "print(val.shape)"
   ]
  },
  {
   "cell_type": "markdown",
   "metadata": {},
   "source": [
    "## Preprocessing"
   ]
  },
  {
   "cell_type": "code",
   "execution_count": 65,
   "metadata": {},
   "outputs": [
    {
     "name": "stdout",
     "output_type": "stream",
     "text": [
      "name[The Vaults], eatType[pub], priceRange[more than £30], customer rating[5 out of 5], near[Café Adriatic]\n"
     ]
    }
   ],
   "source": [
    "mr = data.mr[0]\n",
    "print(mr)"
   ]
  },
  {
   "cell_type": "code",
   "execution_count": 66,
   "metadata": {},
   "outputs": [],
   "source": [
    "values = re.findall(r\"\\[[\\w|\\s|£]+\\]\", mr)"
   ]
  },
  {
   "cell_type": "code",
   "execution_count": 67,
   "metadata": {},
   "outputs": [],
   "source": [
    "attributes = re.findall(r\"[\\w|\\s]+\\[\", mr)"
   ]
  },
  {
   "cell_type": "code",
   "execution_count": 74,
   "metadata": {},
   "outputs": [],
   "source": [
    "valuesp = [re.sub(\"\\[|\\s\", \"\", attribute) for attribute in attributes]"
   ]
  },
  {
   "cell_type": "code",
   "execution_count": 75,
   "metadata": {},
   "outputs": [],
   "source": [
    "attributesp = [re.sub(\"\\[|\\]\", \"\", value) for value in values]"
   ]
  },
  {
   "cell_type": "code",
   "execution_count": 79,
   "metadata": {},
   "outputs": [
    {
     "name": "stdout",
     "output_type": "stream",
     "text": [
      "['The Vaults', 'name', 'pub', 'eatType', 'more than £30', 'priceRange', '5 out of 5', 'customerrating', 'Café Adriatic', 'near']\n"
     ]
    }
   ],
   "source": [
    "mrp = []\n",
    "for i in range(len(valuesp)):\n",
    "    mrp.append(attributesp[i])\n",
    "    mrp.append(valuesp[i])\n",
    "print(mrp)"
   ]
  },
  {
   "cell_type": "code",
   "execution_count": 88,
   "metadata": {
    "collapsed": true
   },
   "outputs": [],
   "source": [
    "def process_mr(mr):\n",
    "    values = re.findall(r\"\\[[\\w|\\s|£|-]+\\]\", mr)\n",
    "    attributes = re.findall(r\"[\\w|\\s]+\\[\", mr)\n",
    "    attributesp = [re.sub(\"\\[|\\s\", \"\", attribute) for attribute in attributes]\n",
    "    valuesp = [re.sub(\"\\[|\\]\", \"\", value) for value in values]\n",
    "    mrp = []\n",
    "    for i in range(len(valuesp)):\n",
    "        mrp.append(attributesp[i])\n",
    "        mrp.append(valuesp[i])\n",
    "    return mrp"
   ]
  },
  {
   "cell_type": "code",
   "execution_count": 89,
   "metadata": {},
   "outputs": [],
   "source": [
    "train[\"mr_prcssd\"] = train.mr.map(lambda mr: process_mr(mr))"
   ]
  },
  {
   "cell_type": "code",
   "execution_count": 90,
   "metadata": {},
   "outputs": [
    {
     "data": {
      "text/html": [
       "<div>\n",
       "<style scoped>\n",
       "    .dataframe tbody tr th:only-of-type {\n",
       "        vertical-align: middle;\n",
       "    }\n",
       "\n",
       "    .dataframe tbody tr th {\n",
       "        vertical-align: top;\n",
       "    }\n",
       "\n",
       "    .dataframe thead th {\n",
       "        text-align: right;\n",
       "    }\n",
       "</style>\n",
       "<table border=\"1\" class=\"dataframe\">\n",
       "  <thead>\n",
       "    <tr style=\"text-align: right;\">\n",
       "      <th></th>\n",
       "      <th>mr</th>\n",
       "      <th>ref</th>\n",
       "      <th>mr_prcssd</th>\n",
       "    </tr>\n",
       "  </thead>\n",
       "  <tbody>\n",
       "    <tr>\n",
       "      <th>0</th>\n",
       "      <td>name[The Vaults], eatType[pub], priceRange[mor...</td>\n",
       "      <td>The Vaults pub near Café Adriatic has a 5 star...</td>\n",
       "      <td>[name, The Vaults, eatType, pub, priceRange, m...</td>\n",
       "    </tr>\n",
       "    <tr>\n",
       "      <th>1</th>\n",
       "      <td>name[The Cambridge Blue], eatType[pub], food[E...</td>\n",
       "      <td>Close to Café Brazil, The Cambridge Blue pub s...</td>\n",
       "      <td>[name, The Cambridge Blue, eatType, pub, food,...</td>\n",
       "    </tr>\n",
       "    <tr>\n",
       "      <th>2</th>\n",
       "      <td>name[The Eagle], eatType[coffee shop], food[Ja...</td>\n",
       "      <td>The Eagle is a low rated coffee shop near Burg...</td>\n",
       "      <td>[name, The Eagle, eatType, coffee shop, food, ...</td>\n",
       "    </tr>\n",
       "    <tr>\n",
       "      <th>3</th>\n",
       "      <td>name[The Mill], eatType[coffee shop], food[Fre...</td>\n",
       "      <td>Located near The Sorrento is a French Theme ea...</td>\n",
       "      <td>[name, The Mill, eatType, coffee shop, food, F...</td>\n",
       "    </tr>\n",
       "    <tr>\n",
       "      <th>4</th>\n",
       "      <td>name[Loch Fyne], food[French], customer rating...</td>\n",
       "      <td>For luxurious French food, the Loch Fyne is lo...</td>\n",
       "      <td>[name, Loch Fyne, food, French, customerrating...</td>\n",
       "    </tr>\n",
       "  </tbody>\n",
       "</table>\n",
       "</div>"
      ],
      "text/plain": [
       "                                                  mr  \\\n",
       "0  name[The Vaults], eatType[pub], priceRange[mor...   \n",
       "1  name[The Cambridge Blue], eatType[pub], food[E...   \n",
       "2  name[The Eagle], eatType[coffee shop], food[Ja...   \n",
       "3  name[The Mill], eatType[coffee shop], food[Fre...   \n",
       "4  name[Loch Fyne], food[French], customer rating...   \n",
       "\n",
       "                                                 ref  \\\n",
       "0  The Vaults pub near Café Adriatic has a 5 star...   \n",
       "1  Close to Café Brazil, The Cambridge Blue pub s...   \n",
       "2  The Eagle is a low rated coffee shop near Burg...   \n",
       "3  Located near The Sorrento is a French Theme ea...   \n",
       "4  For luxurious French food, the Loch Fyne is lo...   \n",
       "\n",
       "                                           mr_prcssd  \n",
       "0  [name, The Vaults, eatType, pub, priceRange, m...  \n",
       "1  [name, The Cambridge Blue, eatType, pub, food,...  \n",
       "2  [name, The Eagle, eatType, coffee shop, food, ...  \n",
       "3  [name, The Mill, eatType, coffee shop, food, F...  \n",
       "4  [name, Loch Fyne, food, French, customerrating...  "
      ]
     },
     "execution_count": 90,
     "metadata": {},
     "output_type": "execute_result"
    }
   ],
   "source": [
    "train.head()"
   ]
  },
  {
   "cell_type": "code",
   "execution_count": null,
   "metadata": {
    "collapsed": true
   },
   "outputs": [],
   "source": []
  }
 ],
 "metadata": {
  "kernelspec": {
   "display_name": "Python 3",
   "language": "python",
   "name": "python3"
  },
  "language_info": {
   "codemirror_mode": {
    "name": "ipython",
    "version": 3
   },
   "file_extension": ".py",
   "mimetype": "text/x-python",
   "name": "python",
   "nbconvert_exporter": "python",
   "pygments_lexer": "ipython3",
   "version": "3.6.3"
  },
  "toc": {
   "nav_menu": {},
   "number_sections": true,
   "sideBar": true,
   "skip_h1_title": false,
   "title_cell": "Table of Contents",
   "title_sidebar": "Contents",
   "toc_cell": true,
   "toc_position": {},
   "toc_section_display": true,
   "toc_window_display": true
  },
  "varInspector": {
   "cols": {
    "lenName": 16,
    "lenType": 16,
    "lenVar": 40
   },
   "kernels_config": {
    "python": {
     "delete_cmd_postfix": "",
     "delete_cmd_prefix": "del ",
     "library": "var_list.py",
     "varRefreshCmd": "print(var_dic_list())"
    },
    "r": {
     "delete_cmd_postfix": ") ",
     "delete_cmd_prefix": "rm(",
     "library": "var_list.r",
     "varRefreshCmd": "cat(var_dic_list()) "
    }
   },
   "types_to_exclude": [
    "module",
    "function",
    "builtin_function_or_method",
    "instance",
    "_Feature"
   ],
   "window_display": false
  }
 },
 "nbformat": 4,
 "nbformat_minor": 2
}
